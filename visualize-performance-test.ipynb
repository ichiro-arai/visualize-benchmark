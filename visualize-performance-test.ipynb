{
 "cells": [
  {
   "cell_type": "markdown",
   "metadata": {},
   "source": [
    "# 性能テストの分析"
   ]
  },
  {
   "cell_type": "markdown",
   "metadata": {},
   "source": [
    "### おまじない： Py4Jを使ってJavaのプロセスを起動\n"
   ]
  },
  {
   "cell_type": "code",
   "execution_count": 1,
   "metadata": {
    "collapsed": true
   },
   "outputs": [],
   "source": [
    "# Py4Jを使ってJavaのプロセスを起動\n",
    "import subprocess\n",
    "import time\n",
    "sp = subprocess.Popen(\n",
    "    'java -cp /Library/Java/JavaVirtualMachines/jdk1.8.0_101.jdk/Contents/Home/db/lib/derby.jar'\n",
    "    + ':$HOME/.pyenv/versions/3.5.2/envs/vistest/share/py4j/py4j0.10.4.jar'\n",
    "    + ' py4j.GatewayServer 25333',\n",
    "    shell=True)\n",
    "time.sleep(1)"
   ]
  },
  {
   "cell_type": "code",
   "execution_count": 2,
   "metadata": {
    "collapsed": false
   },
   "outputs": [],
   "source": [
    "# Initializes Java gateway to use Java code from Python program.\n",
    "from py4j.java_gateway import JavaGateway\n",
    "gateway = JavaGateway()"
   ]
  },
  {
   "cell_type": "markdown",
   "metadata": {},
   "source": [
    "### データ操作処理のベンチマーク例"
   ]
  },
  {
   "cell_type": "code",
   "execution_count": 3,
   "metadata": {
    "collapsed": false
   },
   "outputs": [],
   "source": [
    "gateway.jvm.java.lang.Class.forName('org.apache.derby.jdbc.EmbeddedDriver').newInstance();\n",
    "con = gateway.jvm.java.sql.DriverManager.getConnection('jdbc:derby:bench;create=true')"
   ]
  },
  {
   "cell_type": "code",
   "execution_count": 4,
   "metadata": {
    "collapsed": false
   },
   "outputs": [
    {
     "data": {
      "text/plain": [
       "False"
      ]
     },
     "execution_count": 4,
     "metadata": {},
     "output_type": "execute_result"
    }
   ],
   "source": [
    "statement = con.createStatement()\n",
    "statement.execute(\"\"\"\n",
    "create table t1 (\n",
    "  id int primary key,\n",
    "  info char(254)\n",
    ")\"\"\")"
   ]
  },
  {
   "cell_type": "code",
   "execution_count": 5,
   "metadata": {
    "collapsed": true
   },
   "outputs": [],
   "source": [
    "insert_ps = con.prepareStatement(\"insert into t1 values(?, 'sample')\")\n",
    "delete_ps = con.prepareStatement(\"delete from t1 where id = ?\")"
   ]
  },
  {
   "cell_type": "code",
   "execution_count": 6,
   "metadata": {
    "collapsed": true
   },
   "outputs": [],
   "source": [
    "# おまじない\n",
    "import numpy as np\n",
    "import pandas as pd\n",
    "import matplotlib.pyplot as plt\n",
    "import seaborn as sns\n",
    "%matplotlib inline"
   ]
  },
  {
   "cell_type": "markdown",
   "metadata": {},
   "source": [
    "### ベンチマーク用の処理を定義"
   ]
  },
  {
   "cell_type": "code",
   "execution_count": 7,
   "metadata": {
    "collapsed": false
   },
   "outputs": [],
   "source": [
    "def benchmark(prepared, i):\n",
    "    prepared.setInt(1, i)  \n",
    "\n",
    "    # 処理時間を計測\n",
    "    start = time.time()\n",
    "    prepared.execute()\n",
    "    con.commit()\n",
    "    end = time.time()\n",
    "    \n",
    "    return (end - start) * 1000  # convert to milliseconds"
   ]
  },
  {
   "cell_type": "markdown",
   "metadata": {},
   "source": [
    "### ベンチマーク処理を実行、結果をファイルに書き出し"
   ]
  },
  {
   "cell_type": "code",
   "execution_count": 8,
   "metadata": {
    "collapsed": false
   },
   "outputs": [],
   "source": [
    "with open('bench/insert.log', 'w') as log:\n",
    "    for i in range(0, 100):\n",
    "        t = benchmark(insert_ps, i)\n",
    "        log.write('insert time = {0} [ms]\\n'.format(t))\n",
    "\n",
    "with open('bench/delete.log', 'w') as log:\n",
    "    for i in range(0, 100):\n",
    "        t = benchmark(delete_ps, i)\n",
    "        log.write('delete time = {0} [ms]\\n'.format(t))"
   ]
  },
  {
   "cell_type": "markdown",
   "metadata": {},
   "source": [
    "### ファイルの中身を確認"
   ]
  },
  {
   "cell_type": "code",
   "execution_count": 9,
   "metadata": {
    "collapsed": false
   },
   "outputs": [
    {
     "name": "stdout",
     "output_type": "stream",
     "text": [
      "insert time = 2.4261474609375 [ms]\r\n",
      "insert time = 3.1859874725341797 [ms]\r\n",
      "insert time = 2.785921096801758 [ms]\r\n"
     ]
    }
   ],
   "source": [
    "!head -n 3 bench/insert.log"
   ]
  },
  {
   "cell_type": "code",
   "execution_count": 10,
   "metadata": {
    "collapsed": false
   },
   "outputs": [
    {
     "name": "stdout",
     "output_type": "stream",
     "text": [
      "delete time = 2.4878978729248047 [ms]\r\n",
      "delete time = 1.416921615600586 [ms]\r\n",
      "delete time = 1.7201900482177734 [ms]\r\n"
     ]
    }
   ],
   "source": [
    "!head -n 3 bench/delete.log"
   ]
  },
  {
   "cell_type": "markdown",
   "metadata": {},
   "source": [
    "### 数値を抽出してグラフ化"
   ]
  },
  {
   "cell_type": "code",
   "execution_count": 11,
   "metadata": {
    "collapsed": false
   },
   "outputs": [],
   "source": [
    "import parse\n",
    "\n",
    "with open('bench/insert.log') as log:\n",
    "    insert_times = [parse.parse('insert time = {0} [ms]\\n', line) for line in log]\n",
    "    insert_times = map(lambda e: float(e[0]), insert_times)\n",
    "\n",
    "with open('bench/delete.log') as log:\n",
    "    delete_times = [parse.parse('delete time = {0} [ms]\\n', line) for line in log]\n",
    "    delete_times = map(lambda e: float(e[0]), delete_times)"
   ]
  },
  {
   "cell_type": "code",
   "execution_count": 12,
   "metadata": {
    "collapsed": false
   },
   "outputs": [
    {
     "data": {
      "image/png": "[encoded data removed]",
      "text/plain": [
       "<matplotlib.figure.Figure at 0x10a3047b8>"
      ]
     },
     "metadata": {},
     "output_type": "display_data"
    }
   ],
   "source": [
    "results = np.array(list(insert_times))\n",
    "plt.plot([i for i in range(0, 100)], results)\n",
    "plt.show()"
   ]
  },
  {
   "cell_type": "code",
   "execution_count": 13,
   "metadata": {
    "collapsed": true
   },
   "outputs": [],
   "source": [
    "data = np.array(results)"
   ]
  },
  {
   "cell_type": "code",
   "execution_count": 14,
   "metadata": {
    "collapsed": false
   },
   "outputs": [
    {
     "data": {
      "text/plain": [
       "{'50 percentile': 0.90050697326660156,\n",
       " '90 percentile': 1.7440795898437502,\n",
       " '99 percentile': 3.1977987289428769,\n",
       " 'max': 4.3671131134033203,\n",
       " 'min': 0.58698654174804688,\n",
       " '分散': 0.36312553594939345,\n",
       " '平均': 1.121828556060791,\n",
       " '標準偏差': 0.60259898435808323}"
      ]
     },
     "execution_count": 14,
     "metadata": {},
     "output_type": "execute_result"
    }
   ],
   "source": [
    "stats = {\n",
    "    '平均': data.mean(),\n",
    "    'min': data.min(),\n",
    "    'max': data.max(),\n",
    "    '50 percentile': np.percentile(data, 50),\n",
    "    '90 percentile': np.percentile(data, 90),\n",
    "    '99 percentile': np.percentile(data, 99),\n",
    "    '分散': data.var(),\n",
    "    '標準偏差': np.std(data)\n",
    "}\n",
    "stats"
   ]
  },
  {
   "cell_type": "code",
   "execution_count": 15,
   "metadata": {
    "collapsed": false
   },
   "outputs": [
    {
     "data": {
      "image/png": "[encoded data removed]",
      "text/plain": [
       "<matplotlib.figure.Figure at 0x10a385710>"
      ]
     },
     "metadata": {},
     "output_type": "display_data"
    }
   ],
   "source": [
    "plt.hist(results)\n",
    "plt.show()"
   ]
  },
  {
   "cell_type": "code",
   "execution_count": 16,
   "metadata": {
    "collapsed": false
   },
   "outputs": [],
   "source": [
    "sp.terminate()"
   ]
  },
  {
   "cell_type": "code",
   "execution_count": 17,
   "metadata": {
    "collapsed": false
   },
   "outputs": [],
   "source": [
    "!rm -rf bench"
   ]
  },
  {
   "cell_type": "code",
   "execution_count": null,
   "metadata": {
    "collapsed": false
   },
   "outputs": [],
   "source": []
  }
 ],
 "metadata": {
  "kernelspec": {
   "display_name": "Python 3",
   "language": "python",
   "name": "python3"
  },
  "language_info": {
   "codemirror_mode": {
    "name": "ipython",
    "version": 3
   },
   "file_extension": ".py",
   "mimetype": "text/x-python",
   "name": "python",
   "nbconvert_exporter": "python",
   "pygments_lexer": "ipython3",
   "version": "3.5.2"
  }
 },
 "nbformat": 4,
 "nbformat_minor": 1
}
